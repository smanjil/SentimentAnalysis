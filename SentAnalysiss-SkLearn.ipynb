{
 "cells": [
  {
   "cell_type": "code",
   "execution_count": 38,
   "metadata": {
    "collapsed": true,
    "deletable": true,
    "editable": true
   },
   "outputs": [],
   "source": [
    "import pandas as pd"
   ]
  },
  {
   "cell_type": "code",
   "execution_count": 39,
   "metadata": {
    "collapsed": false,
    "deletable": true,
    "editable": true
   },
   "outputs": [],
   "source": [
    "train_datas = pd.read_csv('new_training_filtered.csv').fillna('')"
   ]
  },
  {
   "cell_type": "code",
   "execution_count": 40,
   "metadata": {
    "collapsed": false,
    "deletable": true,
    "editable": true
   },
   "outputs": [],
   "source": [
    "train_datas.columns = ['label', 'trainvals']"
   ]
  },
  {
   "cell_type": "code",
   "execution_count": 41,
   "metadata": {
    "collapsed": true,
    "deletable": true,
    "editable": true
   },
   "outputs": [],
   "source": [
    "from sklearn.feature_extraction.text import TfidfVectorizer"
   ]
  },
  {
   "cell_type": "code",
   "execution_count": 42,
   "metadata": {
    "collapsed": false,
    "deletable": true,
    "editable": true
   },
   "outputs": [],
   "source": [
    "X = train_datas.trainvals\n",
    "y = train_datas.label"
   ]
  },
  {
   "cell_type": "code",
   "execution_count": 121,
   "metadata": {
    "collapsed": true,
    "deletable": true,
    "editable": true
   },
   "outputs": [],
   "source": [
    "vect = TfidfVectorizer(stop_words='english')"
   ]
  },
  {
   "cell_type": "code",
   "execution_count": 122,
   "metadata": {
    "collapsed": true,
    "deletable": true,
    "editable": true
   },
   "outputs": [],
   "source": [
    "X_train_dtm = vect.fit_transform(X)"
   ]
  },
  {
   "cell_type": "code",
   "execution_count": 123,
   "metadata": {
    "collapsed": true,
    "deletable": true,
    "editable": true
   },
   "outputs": [],
   "source": [
    "test_datas = pd.read_csv('test_tweets.csv').fillna('')"
   ]
  },
  {
   "cell_type": "code",
   "execution_count": 124,
   "metadata": {
    "collapsed": true,
    "deletable": true,
    "editable": true
   },
   "outputs": [],
   "source": [
    "test_datas.columns = ['tweets', 'datetime']"
   ]
  },
  {
   "cell_type": "code",
   "execution_count": 125,
   "metadata": {
    "collapsed": true,
    "deletable": true,
    "editable": true
   },
   "outputs": [],
   "source": [
    "X_test = test_datas.tweets"
   ]
  },
  {
   "cell_type": "code",
   "execution_count": 126,
   "metadata": {
    "collapsed": false,
    "deletable": true,
    "editable": true
   },
   "outputs": [],
   "source": [
    "X_test_dtm = vect.transform(X_test)"
   ]
  },
  {
   "cell_type": "code",
   "execution_count": 127,
   "metadata": {
    "collapsed": true,
    "deletable": true,
    "editable": true
   },
   "outputs": [],
   "source": [
    "from sklearn.naive_bayes import MultinomialNB"
   ]
  },
  {
   "cell_type": "code",
   "execution_count": 128,
   "metadata": {
    "collapsed": true,
    "deletable": true,
    "editable": true
   },
   "outputs": [],
   "source": [
    "mnb = MultinomialNB()"
   ]
  },
  {
   "cell_type": "code",
   "execution_count": 129,
   "metadata": {
    "collapsed": false,
    "deletable": true,
    "editable": true
   },
   "outputs": [
    {
     "data": {
      "text/plain": [
       "MultinomialNB(alpha=1.0, class_prior=None, fit_prior=True)"
      ]
     },
     "execution_count": 129,
     "metadata": {},
     "output_type": "execute_result"
    }
   ],
   "source": [
    "mnb.fit(X_train_dtm, y)"
   ]
  },
  {
   "cell_type": "code",
   "execution_count": 130,
   "metadata": {
    "collapsed": false,
    "deletable": true,
    "editable": true
   },
   "outputs": [],
   "source": [
    "preds = mnb.predict(X_test_dtm)"
   ]
  },
  {
   "cell_type": "code",
   "execution_count": 131,
   "metadata": {
    "collapsed": false
   },
   "outputs": [
    {
     "data": {
      "text/plain": [
       "array([4, 0, 4, ..., 4, 0, 4])"
      ]
     },
     "execution_count": 131,
     "metadata": {},
     "output_type": "execute_result"
    }
   ],
   "source": [
    "preds"
   ]
  },
  {
   "cell_type": "code",
   "execution_count": 132,
   "metadata": {
    "collapsed": false
   },
   "outputs": [],
   "source": [
    "# cross - validation technique"
   ]
  },
  {
   "cell_type": "code",
   "execution_count": 133,
   "metadata": {
    "collapsed": true
   },
   "outputs": [],
   "source": [
    "from sklearn.cross_validation import train_test_split"
   ]
  },
  {
   "cell_type": "code",
   "execution_count": 136,
   "metadata": {
    "collapsed": true
   },
   "outputs": [],
   "source": [
    "X_train, X_test, y_train, y_test = train_test_split(X, y, random_state=1)"
   ]
  },
  {
   "cell_type": "code",
   "execution_count": 137,
   "metadata": {
    "collapsed": true
   },
   "outputs": [],
   "source": [
    "X_train_dtm = vect.fit_transform(X_train)"
   ]
  },
  {
   "cell_type": "code",
   "execution_count": 138,
   "metadata": {
    "collapsed": true
   },
   "outputs": [],
   "source": [
    "X_test_dtm = vect.transform(X_test)"
   ]
  },
  {
   "cell_type": "code",
   "execution_count": 139,
   "metadata": {
    "collapsed": false
   },
   "outputs": [
    {
     "data": {
      "text/plain": [
       "MultinomialNB(alpha=1.0, class_prior=None, fit_prior=True)"
      ]
     },
     "execution_count": 139,
     "metadata": {},
     "output_type": "execute_result"
    }
   ],
   "source": [
    "mnb.fit(X_train_dtm, y_train)"
   ]
  },
  {
   "cell_type": "code",
   "execution_count": 140,
   "metadata": {
    "collapsed": false
   },
   "outputs": [],
   "source": [
    "y_pred_class = mnb.predict(X_test_dtm)"
   ]
  },
  {
   "cell_type": "code",
   "execution_count": 141,
   "metadata": {
    "collapsed": true
   },
   "outputs": [],
   "source": [
    "# calculate accuracy of class predictions\n",
    "from sklearn import metrics"
   ]
  },
  {
   "cell_type": "code",
   "execution_count": 142,
   "metadata": {
    "collapsed": false
   },
   "outputs": [
    {
     "data": {
      "text/plain": [
       "0.75065407390905647"
      ]
     },
     "execution_count": 142,
     "metadata": {},
     "output_type": "execute_result"
    }
   ],
   "source": [
    "metrics.accuracy_score(y_test, y_pred_class)"
   ]
  },
  {
   "cell_type": "code",
   "execution_count": 143,
   "metadata": {
    "collapsed": false
   },
   "outputs": [
    {
     "data": {
      "text/plain": [
       "0    97080\n",
       "4    95941\n",
       "Name: label, dtype: int64"
      ]
     },
     "execution_count": 143,
     "metadata": {},
     "output_type": "execute_result"
    }
   ],
   "source": [
    "y_test.value_counts()"
   ]
  },
  {
   "cell_type": "code",
   "execution_count": 144,
   "metadata": {
    "collapsed": false
   },
   "outputs": [
    {
     "data": {
      "text/plain": [
       "0    0.50295\n",
       "4    0.49705\n",
       "Name: label, dtype: float64"
      ]
     },
     "execution_count": 144,
     "metadata": {},
     "output_type": "execute_result"
    }
   ],
   "source": [
    "# null accuracy\n",
    "null_accuracy = y_test.value_counts().head(4) / len(y_test)\n",
    "null_accuracy\n",
    "# we can see that our accuracuy is greater than our null accuracy"
   ]
  },
  {
   "cell_type": "code",
   "execution_count": 145,
   "metadata": {
    "collapsed": false
   },
   "outputs": [
    {
     "data": {
      "text/plain": [
       "array([[74826, 22254],\n",
       "       [25875, 70066]])"
      ]
     },
     "execution_count": 145,
     "metadata": {},
     "output_type": "execute_result"
    }
   ],
   "source": [
    "# confusion matrix\n",
    "metrics.confusion_matrix(y_test, y_pred_class)\n",
    "# Confusion matrix \n",
    "# [TN FP \n",
    "# FN TP]"
   ]
  },
  {
   "cell_type": "code",
   "execution_count": 146,
   "metadata": {
    "collapsed": false
   },
   "outputs": [
    {
     "data": {
      "text/plain": [
       "array([ 291307.,  287754.])"
      ]
     },
     "execution_count": 146,
     "metadata": {},
     "output_type": "execute_result"
    }
   ],
   "source": [
    "# Naive Bayes counts the number of observations in each class\n",
    "mnb.class_count_"
   ]
  },
  {
   "cell_type": "code",
   "execution_count": 147,
   "metadata": {
    "collapsed": true
   },
   "outputs": [],
   "source": [
    "# examining a model for further insight"
   ]
  },
  {
   "cell_type": "code",
   "execution_count": 148,
   "metadata": {
    "collapsed": false
   },
   "outputs": [
    {
     "data": {
      "text/plain": [
       "206084"
      ]
     },
     "execution_count": 148,
     "metadata": {},
     "output_type": "execute_result"
    }
   ],
   "source": [
    "# store the vocabulary of X_train\n",
    "X_train_tokens = vect.get_feature_names()\n",
    "len(X_train_tokens)"
   ]
  },
  {
   "cell_type": "code",
   "execution_count": 149,
   "metadata": {
    "collapsed": false
   },
   "outputs": [
    {
     "data": {
      "text/plain": [
       "(array([[ 19.83040421,   9.31141214,   4.40243255, ...,   0.62480385,\n",
       "           0.        ,   0.54764071],\n",
       "        [  9.38848139,   4.75246617,   4.50377229, ...,   0.        ,\n",
       "           0.5471108 ,   0.        ]]), (2, 206084))"
      ]
     },
     "execution_count": 149,
     "metadata": {},
     "output_type": "execute_result"
    }
   ],
   "source": [
    "mnb.feature_count_, mnb.feature_count_.shape"
   ]
  },
  {
   "cell_type": "code",
   "execution_count": 150,
   "metadata": {
    "collapsed": false
   },
   "outputs": [
    {
     "data": {
      "text/plain": [
       "array([ 19.83040421,   9.31141214,   4.40243255, ...,   0.62480385,\n",
       "         0.        ,   0.54764071])"
      ]
     },
     "execution_count": 150,
     "metadata": {},
     "output_type": "execute_result"
    }
   ],
   "source": [
    "zero_token_count = mnb.feature_count_[0, :]\n",
    "zero_token_count"
   ]
  },
  {
   "cell_type": "code",
   "execution_count": 151,
   "metadata": {
    "collapsed": false
   },
   "outputs": [
    {
     "data": {
      "text/plain": [
       "array([ 9.38848139,  4.75246617,  4.50377229, ...,  0.        ,\n",
       "        0.5471108 ,  0.        ])"
      ]
     },
     "execution_count": 151,
     "metadata": {},
     "output_type": "execute_result"
    }
   ],
   "source": [
    "four_token_count = mnb.feature_count_[1, :]\n",
    "four_token_count"
   ]
  },
  {
   "cell_type": "code",
   "execution_count": 152,
   "metadata": {
    "collapsed": true
   },
   "outputs": [],
   "source": [
    "tokens = pd.DataFrame({\n",
    "    'token': X_train_tokens,\n",
    "    'zero': zero_token_count,\n",
    "    'four': four_token_count\n",
    "}).set_index('token')"
   ]
  },
  {
   "cell_type": "code",
   "execution_count": 153,
   "metadata": {
    "collapsed": false
   },
   "outputs": [
    {
     "data": {
      "text/html": [
       "<div>\n",
       "<table border=\"1\" class=\"dataframe\">\n",
       "  <thead>\n",
       "    <tr style=\"text-align: right;\">\n",
       "      <th></th>\n",
       "      <th>four</th>\n",
       "      <th>zero</th>\n",
       "    </tr>\n",
       "    <tr>\n",
       "      <th>token</th>\n",
       "      <th></th>\n",
       "      <th></th>\n",
       "    </tr>\n",
       "  </thead>\n",
       "  <tbody>\n",
       "    <tr>\n",
       "      <th>aa</th>\n",
       "      <td>9.388481</td>\n",
       "      <td>19.830404</td>\n",
       "    </tr>\n",
       "    <tr>\n",
       "      <th>aaa</th>\n",
       "      <td>4.752466</td>\n",
       "      <td>9.311412</td>\n",
       "    </tr>\n",
       "    <tr>\n",
       "      <th>aaaa</th>\n",
       "      <td>4.503772</td>\n",
       "      <td>4.402433</td>\n",
       "    </tr>\n",
       "    <tr>\n",
       "      <th>aaaaa</th>\n",
       "      <td>2.164179</td>\n",
       "      <td>6.070895</td>\n",
       "    </tr>\n",
       "    <tr>\n",
       "      <th>aaaaaa</th>\n",
       "      <td>2.204282</td>\n",
       "      <td>4.192905</td>\n",
       "    </tr>\n",
       "  </tbody>\n",
       "</table>\n",
       "</div>"
      ],
      "text/plain": [
       "            four       zero\n",
       "token                      \n",
       "aa      9.388481  19.830404\n",
       "aaa     4.752466   9.311412\n",
       "aaaa    4.503772   4.402433\n",
       "aaaaa   2.164179   6.070895\n",
       "aaaaaa  2.204282   4.192905"
      ]
     },
     "execution_count": 153,
     "metadata": {},
     "output_type": "execute_result"
    }
   ],
   "source": [
    "tokens.head()"
   ]
  },
  {
   "cell_type": "code",
   "execution_count": 154,
   "metadata": {
    "collapsed": false
   },
   "outputs": [
    {
     "data": {
      "text/html": [
       "<div>\n",
       "<table border=\"1\" class=\"dataframe\">\n",
       "  <thead>\n",
       "    <tr style=\"text-align: right;\">\n",
       "      <th></th>\n",
       "      <th>four</th>\n",
       "      <th>zero</th>\n",
       "    </tr>\n",
       "    <tr>\n",
       "      <th>token</th>\n",
       "      <th></th>\n",
       "      <th></th>\n",
       "    </tr>\n",
       "  </thead>\n",
       "  <tbody>\n",
       "    <tr>\n",
       "      <th>englishtagalog</th>\n",
       "      <td>0.000000</td>\n",
       "      <td>0.457875</td>\n",
       "    </tr>\n",
       "    <tr>\n",
       "      <th>belmont</th>\n",
       "      <td>6.064320</td>\n",
       "      <td>3.846933</td>\n",
       "    </tr>\n",
       "    <tr>\n",
       "      <th>riffs</th>\n",
       "      <td>0.497215</td>\n",
       "      <td>0.504904</td>\n",
       "    </tr>\n",
       "    <tr>\n",
       "      <th>dounloading</th>\n",
       "      <td>0.000000</td>\n",
       "      <td>0.605964</td>\n",
       "    </tr>\n",
       "    <tr>\n",
       "      <th>ivf</th>\n",
       "      <td>0.517619</td>\n",
       "      <td>1.010590</td>\n",
       "    </tr>\n",
       "  </tbody>\n",
       "</table>\n",
       "</div>"
      ],
      "text/plain": [
       "                    four      zero\n",
       "token                             \n",
       "englishtagalog  0.000000  0.457875\n",
       "belmont         6.064320  3.846933\n",
       "riffs           0.497215  0.504904\n",
       "dounloading     0.000000  0.605964\n",
       "ivf             0.517619  1.010590"
      ]
     },
     "execution_count": 154,
     "metadata": {},
     "output_type": "execute_result"
    }
   ],
   "source": [
    "tokens.sample(5, random_state=6)"
   ]
  },
  {
   "cell_type": "code",
   "execution_count": 155,
   "metadata": {
    "collapsed": false
   },
   "outputs": [
    {
     "data": {
      "text/html": [
       "<div>\n",
       "<table border=\"1\" class=\"dataframe\">\n",
       "  <thead>\n",
       "    <tr style=\"text-align: right;\">\n",
       "      <th></th>\n",
       "      <th>four</th>\n",
       "      <th>zero</th>\n",
       "    </tr>\n",
       "    <tr>\n",
       "      <th>token</th>\n",
       "      <th></th>\n",
       "      <th></th>\n",
       "    </tr>\n",
       "  </thead>\n",
       "  <tbody>\n",
       "    <tr>\n",
       "      <th>englishtagalog</th>\n",
       "      <td>1.000000</td>\n",
       "      <td>1.457875</td>\n",
       "    </tr>\n",
       "    <tr>\n",
       "      <th>belmont</th>\n",
       "      <td>7.064320</td>\n",
       "      <td>4.846933</td>\n",
       "    </tr>\n",
       "    <tr>\n",
       "      <th>riffs</th>\n",
       "      <td>1.497215</td>\n",
       "      <td>1.504904</td>\n",
       "    </tr>\n",
       "    <tr>\n",
       "      <th>dounloading</th>\n",
       "      <td>1.000000</td>\n",
       "      <td>1.605964</td>\n",
       "    </tr>\n",
       "    <tr>\n",
       "      <th>ivf</th>\n",
       "      <td>1.517619</td>\n",
       "      <td>2.010590</td>\n",
       "    </tr>\n",
       "  </tbody>\n",
       "</table>\n",
       "</div>"
      ],
      "text/plain": [
       "                    four      zero\n",
       "token                             \n",
       "englishtagalog  1.000000  1.457875\n",
       "belmont         7.064320  4.846933\n",
       "riffs           1.497215  1.504904\n",
       "dounloading     1.000000  1.605964\n",
       "ivf             1.517619  2.010590"
      ]
     },
     "execution_count": 155,
     "metadata": {},
     "output_type": "execute_result"
    }
   ],
   "source": [
    "# add 1 to four and zero counts to avoid dividing by 0\n",
    "tokens['four'] = tokens.four + 1\n",
    "tokens['zero'] = tokens.zero + 1\n",
    "tokens.sample(5, random_state=6)"
   ]
  },
  {
   "cell_type": "code",
   "execution_count": 156,
   "metadata": {
    "collapsed": false
   },
   "outputs": [
    {
     "data": {
      "text/html": [
       "<div>\n",
       "<table border=\"1\" class=\"dataframe\">\n",
       "  <thead>\n",
       "    <tr style=\"text-align: right;\">\n",
       "      <th></th>\n",
       "      <th>four</th>\n",
       "      <th>zero</th>\n",
       "    </tr>\n",
       "    <tr>\n",
       "      <th>token</th>\n",
       "      <th></th>\n",
       "      <th></th>\n",
       "    </tr>\n",
       "  </thead>\n",
       "  <tbody>\n",
       "    <tr>\n",
       "      <th>englishtagalog</th>\n",
       "      <td>0.000003</td>\n",
       "      <td>0.000005</td>\n",
       "    </tr>\n",
       "    <tr>\n",
       "      <th>belmont</th>\n",
       "      <td>0.000025</td>\n",
       "      <td>0.000017</td>\n",
       "    </tr>\n",
       "    <tr>\n",
       "      <th>riffs</th>\n",
       "      <td>0.000005</td>\n",
       "      <td>0.000005</td>\n",
       "    </tr>\n",
       "    <tr>\n",
       "      <th>dounloading</th>\n",
       "      <td>0.000003</td>\n",
       "      <td>0.000006</td>\n",
       "    </tr>\n",
       "    <tr>\n",
       "      <th>ivf</th>\n",
       "      <td>0.000005</td>\n",
       "      <td>0.000007</td>\n",
       "    </tr>\n",
       "  </tbody>\n",
       "</table>\n",
       "</div>"
      ],
      "text/plain": [
       "                    four      zero\n",
       "token                             \n",
       "englishtagalog  0.000003  0.000005\n",
       "belmont         0.000025  0.000017\n",
       "riffs           0.000005  0.000005\n",
       "dounloading     0.000003  0.000006\n",
       "ivf             0.000005  0.000007"
      ]
     },
     "execution_count": 156,
     "metadata": {},
     "output_type": "execute_result"
    }
   ],
   "source": [
    "# convert the zero and four counts into frequencies\n",
    "tokens['zero'] = tokens.zero / mnb.class_count_[0]\n",
    "tokens['four'] = tokens.four / mnb.class_count_[1]\n",
    "tokens.sample(5, random_state=6)"
   ]
  },
  {
   "cell_type": "code",
   "execution_count": 157,
   "metadata": {
    "collapsed": false
   },
   "outputs": [
    {
     "data": {
      "text/html": [
       "<div>\n",
       "<table border=\"1\" class=\"dataframe\">\n",
       "  <thead>\n",
       "    <tr style=\"text-align: right;\">\n",
       "      <th></th>\n",
       "      <th>four</th>\n",
       "      <th>zero</th>\n",
       "      <th>zero_ratio</th>\n",
       "    </tr>\n",
       "    <tr>\n",
       "      <th>token</th>\n",
       "      <th></th>\n",
       "      <th></th>\n",
       "      <th></th>\n",
       "    </tr>\n",
       "  </thead>\n",
       "  <tbody>\n",
       "    <tr>\n",
       "      <th>englishtagalog</th>\n",
       "      <td>0.000003</td>\n",
       "      <td>0.000005</td>\n",
       "      <td>1.440094</td>\n",
       "    </tr>\n",
       "    <tr>\n",
       "      <th>belmont</th>\n",
       "      <td>0.000025</td>\n",
       "      <td>0.000017</td>\n",
       "      <td>0.677746</td>\n",
       "    </tr>\n",
       "    <tr>\n",
       "      <th>riffs</th>\n",
       "      <td>0.000005</td>\n",
       "      <td>0.000005</td>\n",
       "      <td>0.992876</td>\n",
       "    </tr>\n",
       "    <tr>\n",
       "      <th>dounloading</th>\n",
       "      <td>0.000003</td>\n",
       "      <td>0.000006</td>\n",
       "      <td>1.586376</td>\n",
       "    </tr>\n",
       "    <tr>\n",
       "      <th>ivf</th>\n",
       "      <td>0.000005</td>\n",
       "      <td>0.000007</td>\n",
       "      <td>1.308674</td>\n",
       "    </tr>\n",
       "  </tbody>\n",
       "</table>\n",
       "</div>"
      ],
      "text/plain": [
       "                    four      zero  zero_ratio\n",
       "token                                         \n",
       "englishtagalog  0.000003  0.000005    1.440094\n",
       "belmont         0.000025  0.000017    0.677746\n",
       "riffs           0.000005  0.000005    0.992876\n",
       "dounloading     0.000003  0.000006    1.586376\n",
       "ivf             0.000005  0.000007    1.308674"
      ]
     },
     "execution_count": 157,
     "metadata": {},
     "output_type": "execute_result"
    }
   ],
   "source": [
    "# calculate the ratio of zero-to-four for each token\n",
    "tokens['zero_ratio'] = tokens.zero / tokens.four\n",
    "tokens.sample(5, random_state=6)"
   ]
  },
  {
   "cell_type": "code",
   "execution_count": 158,
   "metadata": {
    "collapsed": false
   },
   "outputs": [
    {
     "data": {
      "text/html": [
       "<div>\n",
       "<table border=\"1\" class=\"dataframe\">\n",
       "  <thead>\n",
       "    <tr style=\"text-align: right;\">\n",
       "      <th></th>\n",
       "      <th>four</th>\n",
       "      <th>zero</th>\n",
       "      <th>zero_ratio</th>\n",
       "    </tr>\n",
       "    <tr>\n",
       "      <th>token</th>\n",
       "      <th></th>\n",
       "      <th></th>\n",
       "      <th></th>\n",
       "    </tr>\n",
       "  </thead>\n",
       "  <tbody>\n",
       "    <tr>\n",
       "      <th>fawcett</th>\n",
       "      <td>0.000003</td>\n",
       "      <td>0.000200</td>\n",
       "      <td>57.411509</td>\n",
       "    </tr>\n",
       "    <tr>\n",
       "      <th>inaperfectworld</th>\n",
       "      <td>0.000003</td>\n",
       "      <td>0.000132</td>\n",
       "      <td>38.063383</td>\n",
       "    </tr>\n",
       "    <tr>\n",
       "      <th>mcmahon</th>\n",
       "      <td>0.000004</td>\n",
       "      <td>0.000116</td>\n",
       "      <td>26.168188</td>\n",
       "    </tr>\n",
       "    <tr>\n",
       "      <th>farrah</th>\n",
       "      <td>0.000011</td>\n",
       "      <td>0.000281</td>\n",
       "      <td>25.113455</td>\n",
       "    </tr>\n",
       "    <tr>\n",
       "      <th>unloved</th>\n",
       "      <td>0.000005</td>\n",
       "      <td>0.000110</td>\n",
       "      <td>24.205436</td>\n",
       "    </tr>\n",
       "    <tr>\n",
       "      <th>sadd</th>\n",
       "      <td>0.000003</td>\n",
       "      <td>0.000082</td>\n",
       "      <td>23.515779</td>\n",
       "    </tr>\n",
       "    <tr>\n",
       "      <th>sad</th>\n",
       "      <td>0.000457</td>\n",
       "      <td>0.009960</td>\n",
       "      <td>21.771824</td>\n",
       "    </tr>\n",
       "    <tr>\n",
       "      <th>carradine</th>\n",
       "      <td>0.000006</td>\n",
       "      <td>0.000137</td>\n",
       "      <td>21.622820</td>\n",
       "    </tr>\n",
       "    <tr>\n",
       "      <th>saddened</th>\n",
       "      <td>0.000005</td>\n",
       "      <td>0.000101</td>\n",
       "      <td>21.069996</td>\n",
       "    </tr>\n",
       "    <tr>\n",
       "      <th>boohoo</th>\n",
       "      <td>0.000006</td>\n",
       "      <td>0.000125</td>\n",
       "      <td>19.948774</td>\n",
       "    </tr>\n",
       "    <tr>\n",
       "      <th>dontyouhate</th>\n",
       "      <td>0.000003</td>\n",
       "      <td>0.000066</td>\n",
       "      <td>18.887543</td>\n",
       "    </tr>\n",
       "    <tr>\n",
       "      <th>heartburn</th>\n",
       "      <td>0.000005</td>\n",
       "      <td>0.000086</td>\n",
       "      <td>18.679067</td>\n",
       "    </tr>\n",
       "    <tr>\n",
       "      <th>bummed</th>\n",
       "      <td>0.000047</td>\n",
       "      <td>0.000844</td>\n",
       "      <td>18.052064</td>\n",
       "    </tr>\n",
       "    <tr>\n",
       "      <th>toothache</th>\n",
       "      <td>0.000007</td>\n",
       "      <td>0.000126</td>\n",
       "      <td>17.982341</td>\n",
       "    </tr>\n",
       "    <tr>\n",
       "      <th>upsetting</th>\n",
       "      <td>0.000008</td>\n",
       "      <td>0.000144</td>\n",
       "      <td>17.719960</td>\n",
       "    </tr>\n",
       "    <tr>\n",
       "      <th>unfair</th>\n",
       "      <td>0.000015</td>\n",
       "      <td>0.000257</td>\n",
       "      <td>17.611692</td>\n",
       "    </tr>\n",
       "    <tr>\n",
       "      <th>woe</th>\n",
       "      <td>0.000005</td>\n",
       "      <td>0.000085</td>\n",
       "      <td>17.280141</td>\n",
       "    </tr>\n",
       "    <tr>\n",
       "      <th>throbbing</th>\n",
       "      <td>0.000005</td>\n",
       "      <td>0.000086</td>\n",
       "      <td>17.255414</td>\n",
       "    </tr>\n",
       "    <tr>\n",
       "      <th>hurts</th>\n",
       "      <td>0.000174</td>\n",
       "      <td>0.002956</td>\n",
       "      <td>16.984691</td>\n",
       "    </tr>\n",
       "    <tr>\n",
       "      <th>sadface</th>\n",
       "      <td>0.000005</td>\n",
       "      <td>0.000082</td>\n",
       "      <td>16.606133</td>\n",
       "    </tr>\n",
       "    <tr>\n",
       "      <th>devastated</th>\n",
       "      <td>0.000006</td>\n",
       "      <td>0.000096</td>\n",
       "      <td>16.309537</td>\n",
       "    </tr>\n",
       "    <tr>\n",
       "      <th>neda</th>\n",
       "      <td>0.000003</td>\n",
       "      <td>0.000056</td>\n",
       "      <td>16.121993</td>\n",
       "    </tr>\n",
       "    <tr>\n",
       "      <th>sicky</th>\n",
       "      <td>0.000006</td>\n",
       "      <td>0.000095</td>\n",
       "      <td>15.550893</td>\n",
       "    </tr>\n",
       "    <tr>\n",
       "      <th>activation</th>\n",
       "      <td>0.000003</td>\n",
       "      <td>0.000054</td>\n",
       "      <td>15.463226</td>\n",
       "    </tr>\n",
       "    <tr>\n",
       "      <th>pakcricket</th>\n",
       "      <td>0.000003</td>\n",
       "      <td>0.000053</td>\n",
       "      <td>15.235962</td>\n",
       "    </tr>\n",
       "    <tr>\n",
       "      <th>rip</th>\n",
       "      <td>0.000066</td>\n",
       "      <td>0.000993</td>\n",
       "      <td>15.116404</td>\n",
       "    </tr>\n",
       "    <tr>\n",
       "      <th>homesick</th>\n",
       "      <td>0.000010</td>\n",
       "      <td>0.000148</td>\n",
       "      <td>14.680379</td>\n",
       "    </tr>\n",
       "    <tr>\n",
       "      <th>sadder</th>\n",
       "      <td>0.000005</td>\n",
       "      <td>0.000069</td>\n",
       "      <td>14.482451</td>\n",
       "    </tr>\n",
       "    <tr>\n",
       "      <th>heartbroken</th>\n",
       "      <td>0.000011</td>\n",
       "      <td>0.000154</td>\n",
       "      <td>14.364802</td>\n",
       "    </tr>\n",
       "    <tr>\n",
       "      <th>coughing</th>\n",
       "      <td>0.000020</td>\n",
       "      <td>0.000286</td>\n",
       "      <td>14.306852</td>\n",
       "    </tr>\n",
       "    <tr>\n",
       "      <th>...</th>\n",
       "      <td>...</td>\n",
       "      <td>...</td>\n",
       "      <td>...</td>\n",
       "    </tr>\n",
       "    <tr>\n",
       "      <th>relaxin</th>\n",
       "      <td>0.000063</td>\n",
       "      <td>0.000007</td>\n",
       "      <td>0.113117</td>\n",
       "    </tr>\n",
       "    <tr>\n",
       "      <th>yaaay</th>\n",
       "      <td>0.000155</td>\n",
       "      <td>0.000017</td>\n",
       "      <td>0.112188</td>\n",
       "    </tr>\n",
       "    <tr>\n",
       "      <th>congratulation</th>\n",
       "      <td>0.000046</td>\n",
       "      <td>0.000005</td>\n",
       "      <td>0.112021</td>\n",
       "    </tr>\n",
       "    <tr>\n",
       "      <th>whoot</th>\n",
       "      <td>0.000068</td>\n",
       "      <td>0.000008</td>\n",
       "      <td>0.111411</td>\n",
       "    </tr>\n",
       "    <tr>\n",
       "      <th>goooodnight</th>\n",
       "      <td>0.000031</td>\n",
       "      <td>0.000003</td>\n",
       "      <td>0.110093</td>\n",
       "    </tr>\n",
       "    <tr>\n",
       "      <th>smiling</th>\n",
       "      <td>0.000374</td>\n",
       "      <td>0.000041</td>\n",
       "      <td>0.109806</td>\n",
       "    </tr>\n",
       "    <tr>\n",
       "      <th>blessed</th>\n",
       "      <td>0.000455</td>\n",
       "      <td>0.000050</td>\n",
       "      <td>0.109604</td>\n",
       "    </tr>\n",
       "    <tr>\n",
       "      <th>pleasure</th>\n",
       "      <td>0.000492</td>\n",
       "      <td>0.000053</td>\n",
       "      <td>0.106648</td>\n",
       "    </tr>\n",
       "    <tr>\n",
       "      <th>tnx</th>\n",
       "      <td>0.000096</td>\n",
       "      <td>0.000010</td>\n",
       "      <td>0.105315</td>\n",
       "    </tr>\n",
       "    <tr>\n",
       "      <th>noundiessunday</th>\n",
       "      <td>0.000033</td>\n",
       "      <td>0.000003</td>\n",
       "      <td>0.104358</td>\n",
       "    </tr>\n",
       "    <tr>\n",
       "      <th>yayay</th>\n",
       "      <td>0.000033</td>\n",
       "      <td>0.000003</td>\n",
       "      <td>0.103665</td>\n",
       "    </tr>\n",
       "    <tr>\n",
       "      <th>danke</th>\n",
       "      <td>0.000034</td>\n",
       "      <td>0.000003</td>\n",
       "      <td>0.100476</td>\n",
       "    </tr>\n",
       "    <tr>\n",
       "      <th>delongeday</th>\n",
       "      <td>0.000035</td>\n",
       "      <td>0.000003</td>\n",
       "      <td>0.099326</td>\n",
       "    </tr>\n",
       "    <tr>\n",
       "      <th>smiles</th>\n",
       "      <td>0.000258</td>\n",
       "      <td>0.000025</td>\n",
       "      <td>0.098409</td>\n",
       "    </tr>\n",
       "    <tr>\n",
       "      <th>miracles</th>\n",
       "      <td>0.000046</td>\n",
       "      <td>0.000005</td>\n",
       "      <td>0.097854</td>\n",
       "    </tr>\n",
       "    <tr>\n",
       "      <th>musicmonday</th>\n",
       "      <td>0.000234</td>\n",
       "      <td>0.000022</td>\n",
       "      <td>0.094880</td>\n",
       "    </tr>\n",
       "    <tr>\n",
       "      <th>recommendation</th>\n",
       "      <td>0.000236</td>\n",
       "      <td>0.000022</td>\n",
       "      <td>0.092460</td>\n",
       "    </tr>\n",
       "    <tr>\n",
       "      <th>jenni</th>\n",
       "      <td>0.000037</td>\n",
       "      <td>0.000003</td>\n",
       "      <td>0.092250</td>\n",
       "    </tr>\n",
       "    <tr>\n",
       "      <th>loveeeee</th>\n",
       "      <td>0.000055</td>\n",
       "      <td>0.000005</td>\n",
       "      <td>0.091229</td>\n",
       "    </tr>\n",
       "    <tr>\n",
       "      <th>sweeeeet</th>\n",
       "      <td>0.000051</td>\n",
       "      <td>0.000005</td>\n",
       "      <td>0.088701</td>\n",
       "    </tr>\n",
       "    <tr>\n",
       "      <th>welcome</th>\n",
       "      <td>0.003041</td>\n",
       "      <td>0.000265</td>\n",
       "      <td>0.087188</td>\n",
       "    </tr>\n",
       "    <tr>\n",
       "      <th>goodsex</th>\n",
       "      <td>0.000101</td>\n",
       "      <td>0.000008</td>\n",
       "      <td>0.082197</td>\n",
       "    </tr>\n",
       "    <tr>\n",
       "      <th>compliment</th>\n",
       "      <td>0.000222</td>\n",
       "      <td>0.000018</td>\n",
       "      <td>0.081443</td>\n",
       "    </tr>\n",
       "    <tr>\n",
       "      <th>wooohooo</th>\n",
       "      <td>0.000054</td>\n",
       "      <td>0.000004</td>\n",
       "      <td>0.080900</td>\n",
       "    </tr>\n",
       "    <tr>\n",
       "      <th>atcha</th>\n",
       "      <td>0.000063</td>\n",
       "      <td>0.000005</td>\n",
       "      <td>0.077793</td>\n",
       "    </tr>\n",
       "    <tr>\n",
       "      <th>gratitude</th>\n",
       "      <td>0.000046</td>\n",
       "      <td>0.000003</td>\n",
       "      <td>0.073993</td>\n",
       "    </tr>\n",
       "    <tr>\n",
       "      <th>congratulations</th>\n",
       "      <td>0.000806</td>\n",
       "      <td>0.000058</td>\n",
       "      <td>0.072225</td>\n",
       "    </tr>\n",
       "    <tr>\n",
       "      <th>followfriday</th>\n",
       "      <td>0.001345</td>\n",
       "      <td>0.000095</td>\n",
       "      <td>0.070594</td>\n",
       "    </tr>\n",
       "    <tr>\n",
       "      <th>honored</th>\n",
       "      <td>0.000104</td>\n",
       "      <td>0.000007</td>\n",
       "      <td>0.063915</td>\n",
       "    </tr>\n",
       "    <tr>\n",
       "      <th>fuzzball</th>\n",
       "      <td>0.000075</td>\n",
       "      <td>0.000003</td>\n",
       "      <td>0.045846</td>\n",
       "    </tr>\n",
       "  </tbody>\n",
       "</table>\n",
       "<p>206084 rows × 3 columns</p>\n",
       "</div>"
      ],
      "text/plain": [
       "                     four      zero  zero_ratio\n",
       "token                                          \n",
       "fawcett          0.000003  0.000200   57.411509\n",
       "inaperfectworld  0.000003  0.000132   38.063383\n",
       "mcmahon          0.000004  0.000116   26.168188\n",
       "farrah           0.000011  0.000281   25.113455\n",
       "unloved          0.000005  0.000110   24.205436\n",
       "sadd             0.000003  0.000082   23.515779\n",
       "sad              0.000457  0.009960   21.771824\n",
       "carradine        0.000006  0.000137   21.622820\n",
       "saddened         0.000005  0.000101   21.069996\n",
       "boohoo           0.000006  0.000125   19.948774\n",
       "dontyouhate      0.000003  0.000066   18.887543\n",
       "heartburn        0.000005  0.000086   18.679067\n",
       "bummed           0.000047  0.000844   18.052064\n",
       "toothache        0.000007  0.000126   17.982341\n",
       "upsetting        0.000008  0.000144   17.719960\n",
       "unfair           0.000015  0.000257   17.611692\n",
       "woe              0.000005  0.000085   17.280141\n",
       "throbbing        0.000005  0.000086   17.255414\n",
       "hurts            0.000174  0.002956   16.984691\n",
       "sadface          0.000005  0.000082   16.606133\n",
       "devastated       0.000006  0.000096   16.309537\n",
       "neda             0.000003  0.000056   16.121993\n",
       "sicky            0.000006  0.000095   15.550893\n",
       "activation       0.000003  0.000054   15.463226\n",
       "pakcricket       0.000003  0.000053   15.235962\n",
       "rip              0.000066  0.000993   15.116404\n",
       "homesick         0.000010  0.000148   14.680379\n",
       "sadder           0.000005  0.000069   14.482451\n",
       "heartbroken      0.000011  0.000154   14.364802\n",
       "coughing         0.000020  0.000286   14.306852\n",
       "...                   ...       ...         ...\n",
       "relaxin          0.000063  0.000007    0.113117\n",
       "yaaay            0.000155  0.000017    0.112188\n",
       "congratulation   0.000046  0.000005    0.112021\n",
       "whoot            0.000068  0.000008    0.111411\n",
       "goooodnight      0.000031  0.000003    0.110093\n",
       "smiling          0.000374  0.000041    0.109806\n",
       "blessed          0.000455  0.000050    0.109604\n",
       "pleasure         0.000492  0.000053    0.106648\n",
       "tnx              0.000096  0.000010    0.105315\n",
       "noundiessunday   0.000033  0.000003    0.104358\n",
       "yayay            0.000033  0.000003    0.103665\n",
       "danke            0.000034  0.000003    0.100476\n",
       "delongeday       0.000035  0.000003    0.099326\n",
       "smiles           0.000258  0.000025    0.098409\n",
       "miracles         0.000046  0.000005    0.097854\n",
       "musicmonday      0.000234  0.000022    0.094880\n",
       "recommendation   0.000236  0.000022    0.092460\n",
       "jenni            0.000037  0.000003    0.092250\n",
       "loveeeee         0.000055  0.000005    0.091229\n",
       "sweeeeet         0.000051  0.000005    0.088701\n",
       "welcome          0.003041  0.000265    0.087188\n",
       "goodsex          0.000101  0.000008    0.082197\n",
       "compliment       0.000222  0.000018    0.081443\n",
       "wooohooo         0.000054  0.000004    0.080900\n",
       "atcha            0.000063  0.000005    0.077793\n",
       "gratitude        0.000046  0.000003    0.073993\n",
       "congratulations  0.000806  0.000058    0.072225\n",
       "followfriday     0.001345  0.000095    0.070594\n",
       "honored          0.000104  0.000007    0.063915\n",
       "fuzzball         0.000075  0.000003    0.045846\n",
       "\n",
       "[206084 rows x 3 columns]"
      ]
     },
     "execution_count": 158,
     "metadata": {},
     "output_type": "execute_result"
    }
   ],
   "source": [
    "tokens.sort_values('zero_ratio', ascending=False)"
   ]
  },
  {
   "cell_type": "code",
   "execution_count": 159,
   "metadata": {
    "collapsed": false
   },
   "outputs": [
    {
     "data": {
      "text/plain": [
       "23.515779348528827"
      ]
     },
     "execution_count": 159,
     "metadata": {},
     "output_type": "execute_result"
    }
   ],
   "source": [
    "tokens.loc['sadd', 'zero_ratio']"
   ]
  },
  {
   "cell_type": "code",
   "execution_count": null,
   "metadata": {
    "collapsed": true
   },
   "outputs": [],
   "source": []
  }
 ],
 "metadata": {
  "kernelspec": {
   "display_name": "Python 2",
   "language": "python",
   "name": "python2"
  },
  "language_info": {
   "codemirror_mode": {
    "name": "ipython",
    "version": 2
   },
   "file_extension": ".py",
   "mimetype": "text/x-python",
   "name": "python",
   "nbconvert_exporter": "python",
   "pygments_lexer": "ipython2",
   "version": "2.7.12"
  }
 },
 "nbformat": 4,
 "nbformat_minor": 2
}
